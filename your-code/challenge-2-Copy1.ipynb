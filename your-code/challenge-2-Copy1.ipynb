{
 "cells": [
  {
   "cell_type": "markdown",
   "metadata": {},
   "source": [
    "## Challenge 2: Sets\n",
    "\n",
    "There are a lot to learn about Python Sets and the information presented in the lesson is limited due to its length. To learn Python Sets in depth you are strongly encouraged to review the W3Schools tutorial on [Python Sets Examples and Methods](https://www.w3schools.com/python/python_sets.asp) before you work on this lab. Some difficult questions in this lab have their solutions in the W3Schools tutorial.\n",
    "\n",
    "#### First, import the Python `random` library."
   ]
  },
  {
   "cell_type": "code",
   "execution_count": 1,
   "metadata": {},
   "outputs": [],
   "source": [
    "import random"
   ]
  },
  {
   "cell_type": "markdown",
   "metadata": {},
   "source": [
    "#### In the cell below, create a list named `sample_list_1` with 80 random values. \n",
    "\n",
    "Requirements:\n",
    "\n",
    "* Each value is an integer falling between 0 and 100.\n",
    "* Each value in the list is unique.\n",
    "\n",
    "Print `sample_list_1` to review its values\n",
    "\n",
    "*Hint: use `random.sample` ([reference](https://docs.python.org/3/library/random.html#random.sample)).*"
   ]
  },
  {
   "cell_type": "code",
   "execution_count": 5,
   "metadata": {},
   "outputs": [
    {
     "data": {
      "text/plain": [
       "80"
      ]
     },
     "execution_count": 5,
     "metadata": {},
     "output_type": "execute_result"
    }
   ],
   "source": [
    "sample_list_1=random.sample(range(0,101), 80)\n",
    "len(sample_list_1)\n",
    "# Return a k length list of unique elements chosen from the population sequence or set. Used for random sampling without replacement.\n",
    "# Returns a new list containing elements from the population while leaving the original population unchanged.\n",
    "# To choose a sample from a range of integers, use a range() object as an argument. "
   ]
  },
  {
   "cell_type": "markdown",
   "metadata": {},
   "source": [
    "#### Convert `sample_list_1` to a set called `set1`. Print the length of the set. Is its length still 80?"
   ]
  },
  {
   "cell_type": "code",
   "execution_count": 4,
   "metadata": {},
   "outputs": [
    {
     "data": {
      "text/plain": [
       "80"
      ]
     },
     "execution_count": 4,
     "metadata": {},
     "output_type": "execute_result"
    }
   ],
   "source": [
    "set1=set(sample_list_1)\n",
    "len(set1)\n",
    "# Yes, the length remains unchanged. \n",
    "# We just changed the nature of the element from list to set."
   ]
  },
  {
   "cell_type": "markdown",
   "metadata": {},
   "source": [
    "#### Create another list named `sample_list_2` with 80 random values.\n",
    "\n",
    "Requirements:\n",
    "\n",
    "* Each value is an integer falling between 0 and 100.\n",
    "* The values in the list don't have to be unique.\n",
    "\n",
    "*Hint: Use a FOR loop and the `randrange()` function.*"
   ]
  },
  {
   "cell_type": "code",
   "execution_count": 7,
   "metadata": {
    "scrolled": true
   },
   "outputs": [
    {
     "name": "stdout",
     "output_type": "stream",
     "text": [
      "[84, 77, 90, 3, 70, 40, 54, 9, 36, 81, 76, 66, 40, 34, 95, 55, 42, 68, 39, 32, 87, 93, 46, 47, 97, 1, 83, 55, 79, 15, 0, 24, 72, 24, 90, 30, 16, 56, 54, 83, 25, 8, 18, 70, 20, 43, 98, 20, 71, 88, 62, 37, 25, 46, 56, 20, 46, 98, 46, 20, 73, 0, 18, 2, 91, 32, 38, 89, 1, 74, 50, 66, 86, 84, 87, 36, 65, 32, 81, 35]\n"
     ]
    },
    {
     "data": {
      "text/plain": [
       "80"
      ]
     },
     "execution_count": 7,
     "metadata": {},
     "output_type": "execute_result"
    }
   ],
   "source": [
    "sample_list_2 = []\n",
    "\n",
    "for i in range(80):\n",
    "    item=random.randrange(0,101)\n",
    "    sample_list_2.append(item)\n",
    "    \n",
    "print(sample_list_2)\n",
    "len(sample_list_2)\n",
    "# In this case the values don't have to be unique, so no need for random.sample\n",
    "# I set random range 101 to include both 0 and 100 (otherwise 100 would fall out)."
   ]
  },
  {
   "cell_type": "markdown",
   "metadata": {},
   "source": [
    "#### Convert `sample_list_2` to a set called `set2`. Print the length of the set. Is its length still 80?"
   ]
  },
  {
   "cell_type": "code",
   "execution_count": 8,
   "metadata": {
    "scrolled": true
   },
   "outputs": [
    {
     "data": {
      "text/plain": [
       "54"
      ]
     },
     "execution_count": 8,
     "metadata": {},
     "output_type": "execute_result"
    }
   ],
   "source": [
    "set2=set(sample_list_2)\n",
    "len(set2)\n",
    "# length is no longer 80 because there are repeated numbers in the list.\n",
    "# when turning the list into a set, the repeated numbers are eliminated.\n",
    "# hence why the length of the set is shorter now."
   ]
  },
  {
   "cell_type": "markdown",
   "metadata": {},
   "source": [
    "#### Identify the elements present in `set1` but not in `set2`. Assign the elements to a new set named `set3`."
   ]
  },
  {
   "cell_type": "code",
   "execution_count": 11,
   "metadata": {},
   "outputs": [
    {
     "name": "stdout",
     "output_type": "stream",
     "text": [
      "{5, 6, 7, 10, 11, 12, 13, 14, 17, 19, 21, 22, 23, 26, 27, 28, 31, 33, 44, 45, 48, 49, 51, 52, 53, 57, 58, 59, 60, 61, 64, 75, 78, 80, 82, 85, 94, 96, 99, 100}\n"
     ]
    }
   ],
   "source": [
    "set3=[]\n",
    "\n",
    "for i in set1:\n",
    "    if i not in set2:\n",
    "        set3.append(i)\n",
    "    \n",
    "set3=set(set3)\n",
    "print(set3)\n"
   ]
  },
  {
   "cell_type": "markdown",
   "metadata": {},
   "source": [
    "#### Identify the elements present in `set2` but not in `set1`. Assign the elements to a new set named `set4`."
   ]
  },
  {
   "cell_type": "code",
   "execution_count": 12,
   "metadata": {},
   "outputs": [
    {
     "name": "stdout",
     "output_type": "stream",
     "text": [
      "{65, 97, 3, 38, 39, 70, 74, 76, 15, 86, 87, 24, 25, 88}\n"
     ]
    }
   ],
   "source": [
    "set4=[]\n",
    "\n",
    "for i in set2:\n",
    "    if i not in set1:\n",
    "        set4.append(i)\n",
    "\n",
    "set4=set(set4)\n",
    "print(set4)"
   ]
  },
  {
   "cell_type": "markdown",
   "metadata": {},
   "source": [
    "#### Now Identify the elements shared between `set1` and `set2`. Assign the elements to a new set named `set5`."
   ]
  },
  {
   "cell_type": "code",
   "execution_count": 13,
   "metadata": {},
   "outputs": [
    {
     "name": "stdout",
     "output_type": "stream",
     "text": [
      "{0, 1, 2, 8, 9, 16, 18, 20, 30, 32, 34, 35, 36, 37, 40, 42, 43, 46, 47, 50, 54, 55, 56, 62, 66, 68, 71, 72, 73, 77, 79, 81, 83, 84, 89, 90, 91, 93, 95, 98}\n"
     ]
    }
   ],
   "source": [
    "set5=[]\n",
    "\n",
    "for i in set1:\n",
    "    if i in set2:\n",
    "        set5.append(i)\n",
    "\n",
    "set5=set(set5)\n",
    "print(set5)"
   ]
  },
  {
   "cell_type": "markdown",
   "metadata": {},
   "source": [
    "#### What is the relationship among the following values:\n",
    "\n",
    "* len(set1)\n",
    "* len(set2)\n",
    "* len(set3)\n",
    "* len(set4)\n",
    "* len(set5)\n",
    "\n",
    "Think about the set operations that you used to create the sets and how the lengths of the sets are related to each other given those operations."
   ]
  },
  {
   "cell_type": "code",
   "execution_count": 16,
   "metadata": {},
   "outputs": [
    {
     "name": "stdout",
     "output_type": "stream",
     "text": [
      "set1: 80\n",
      "set2: 54\n",
      "set3: 40\n",
      "set4: 14\n",
      "set5: 40\n"
     ]
    }
   ],
   "source": [
    "# set1 relates to a sample list, formed by unique elements, ranged 80\n",
    "# set2 relates to a sample with repeated elements which are removed when creating the set. Hence the length is shorter\n",
    "# set3 relates to the numbers present in set1 which are not in set 2\n",
    "# set4 relates to numbers present in set2 which are not in set4\n",
    "# set5 relates to shared values\n",
    "\n",
    "# when adding up set3+set5 we should get the length of set1\n",
    "# when adding up set4+set5 we should get the length of set2\n",
    "\n",
    "print('set1:', len(set1))\n",
    "print('set2:', len(set2))\n",
    "print('set3:', len(set3))\n",
    "print('set4:', len(set4))\n",
    "print('set5:', len(set5))"
   ]
  },
  {
   "cell_type": "markdown",
   "metadata": {},
   "source": [
    "#### Create an empty set called `set6`."
   ]
  },
  {
   "cell_type": "code",
   "execution_count": 18,
   "metadata": {},
   "outputs": [],
   "source": [
    "set6=set()"
   ]
  },
  {
   "cell_type": "markdown",
   "metadata": {},
   "source": [
    "#### Add `set3` and `set5` to `set6` using the Python Set `update` method."
   ]
  },
  {
   "cell_type": "code",
   "execution_count": 19,
   "metadata": {},
   "outputs": [
    {
     "name": "stdout",
     "output_type": "stream",
     "text": [
      "{0, 1, 2, 5, 6, 7, 8, 9, 10, 11, 12, 13, 14, 16, 17, 18, 19, 20, 21, 22, 23, 26, 27, 28, 30, 31, 32, 33, 34, 35, 36, 37, 40, 42, 43, 44, 45, 46, 47, 48, 49, 50, 51, 52, 53, 54, 55, 56, 57, 58, 59, 60, 61, 62, 64, 66, 68, 71, 72, 73, 75, 77, 78, 79, 80, 81, 82, 83, 84, 85, 89, 90, 91, 93, 94, 95, 96, 98, 99, 100}\n"
     ]
    }
   ],
   "source": [
    "set6.update(set3)\n",
    "set6.update(set5)\n",
    "print(set6)"
   ]
  },
  {
   "cell_type": "markdown",
   "metadata": {},
   "source": [
    "#### Check if `set1` and `set6` are equal."
   ]
  },
  {
   "cell_type": "code",
   "execution_count": 21,
   "metadata": {},
   "outputs": [
    {
     "name": "stdout",
     "output_type": "stream",
     "text": [
      "true\n"
     ]
    }
   ],
   "source": [
    "if set1==set6:\n",
    "    print('true')\n",
    "else:\n",
    "    print('false')\n"
   ]
  },
  {
   "cell_type": "markdown",
   "metadata": {},
   "source": [
    "#### Check if `set1` contains `set2` using the Python Set `issubset` method. Then check if `set1` contains `set3`."
   ]
  },
  {
   "cell_type": "code",
   "execution_count": 24,
   "metadata": {},
   "outputs": [
    {
     "name": "stdout",
     "output_type": "stream",
     "text": [
      "False\n",
      "True\n"
     ]
    }
   ],
   "source": [
    "check2in1=set2.issubset(set1)\n",
    "print(check2in1)\n",
    "\n",
    "check3in1=set3.issubset(set1)\n",
    "print(check3in1)"
   ]
  },
  {
   "cell_type": "markdown",
   "metadata": {},
   "source": [
    "#### Using the Python Set `union` method, aggregate `set3`, `set4`, and `set5`. Then aggregate `set1` and `set2`. \n",
    "\n",
    "#### Check if the aggregated values are equal."
   ]
  },
  {
   "cell_type": "code",
   "execution_count": 25,
   "metadata": {},
   "outputs": [
    {
     "name": "stdout",
     "output_type": "stream",
     "text": [
      "{0, 1, 2, 3, 5, 6, 7, 8, 9, 10, 11, 12, 13, 14, 15, 16, 17, 18, 19, 20, 21, 22, 23, 24, 25, 26, 27, 28, 30, 31, 32, 33, 34, 35, 36, 37, 38, 39, 40, 42, 43, 44, 45, 46, 47, 48, 49, 50, 51, 52, 53, 54, 55, 56, 57, 58, 59, 60, 61, 62, 64, 65, 66, 68, 70, 71, 72, 73, 74, 75, 76, 77, 78, 79, 80, 81, 82, 83, 84, 85, 86, 87, 88, 89, 90, 91, 93, 94, 95, 96, 97, 98, 99, 100}\n",
      "{0, 1, 2, 3, 5, 6, 7, 8, 9, 10, 11, 12, 13, 14, 15, 16, 17, 18, 19, 20, 21, 22, 23, 24, 25, 26, 27, 28, 30, 31, 32, 33, 34, 35, 36, 37, 38, 39, 40, 42, 43, 44, 45, 46, 47, 48, 49, 50, 51, 52, 53, 54, 55, 56, 57, 58, 59, 60, 61, 62, 64, 65, 66, 68, 70, 71, 72, 73, 74, 75, 76, 77, 78, 79, 80, 81, 82, 83, 84, 85, 86, 87, 88, 89, 90, 91, 93, 94, 95, 96, 97, 98, 99, 100}\n",
      "true\n"
     ]
    }
   ],
   "source": [
    "set3Uset4Uset5=set3.union(set4, set5)\n",
    "print(set3Uset4Uset5)\n",
    "\n",
    "set1Uset2=set1.union(set2)\n",
    "print(set1Uset2)\n",
    "\n",
    "if set3Uset4Uset5 == set1Uset2:\n",
    "    print('true')\n",
    "else:\n",
    "    print('false')\n"
   ]
  },
  {
   "cell_type": "markdown",
   "metadata": {},
   "source": [
    "#### Using the `pop` method, remove the first element from `set1`."
   ]
  },
  {
   "cell_type": "code",
   "execution_count": 26,
   "metadata": {
    "scrolled": false
   },
   "outputs": [
    {
     "name": "stdout",
     "output_type": "stream",
     "text": [
      "{1, 2, 5, 6, 7, 8, 9, 10, 11, 12, 13, 14, 16, 17, 18, 19, 20, 21, 22, 23, 26, 27, 28, 30, 31, 32, 33, 34, 35, 36, 37, 40, 42, 43, 44, 45, 46, 47, 48, 49, 50, 51, 52, 53, 54, 55, 56, 57, 58, 59, 60, 61, 62, 64, 66, 68, 71, 72, 73, 75, 77, 78, 79, 80, 81, 82, 83, 84, 85, 89, 90, 91, 93, 94, 95, 96, 98, 99, 100}\n"
     ]
    }
   ],
   "source": [
    "list1=list(set1)\n",
    "list1.pop(0)\n",
    "set1_modified=set(list1)\n",
    "print(set1_modified)\n"
   ]
  },
  {
   "cell_type": "markdown",
   "metadata": {},
   "source": [
    "#### Remove every element in the following list from `set1` if they are present in the set. Print the remaining elements.\n",
    "\n",
    "```\n",
    "list_to_remove = [1, 9, 11, 19, 21, 29, 31, 39, 41, 49, 51, 59, 61, 69, 71, 79, 81, 89, 91, 99]\n",
    "```"
   ]
  },
  {
   "cell_type": "code",
   "execution_count": 27,
   "metadata": {},
   "outputs": [
    {
     "name": "stdout",
     "output_type": "stream",
     "text": [
      "{2, 5, 6, 7, 8, 10, 12, 13, 14, 16, 17, 18, 20, 22, 23, 26, 27, 28, 30, 32, 33, 34, 35, 36, 37, 40, 42, 43, 44, 45, 46, 47, 48, 50, 52, 53, 54, 55, 56, 57, 58, 60, 62, 64, 66, 68, 72, 73, 75, 77, 78, 80, 82, 83, 84, 85, 90, 93, 94, 95, 96, 98, 100}\n"
     ]
    }
   ],
   "source": [
    "# Your code here\n",
    "list_to_remove = [1, 9, 11, 19, 21, 29, 31, 39, 41, 49, 51, 59, 61, 69, 71, 79, 81, 89, 91, 99]\n",
    "new_list1=[]\n",
    "\n",
    "for item in list1:\n",
    "    if item not in list_to_remove:\n",
    "        new_list1.append(item)\n",
    "\n",
    "new_set1=set(new_list1)\n",
    "print(new_set1)"
   ]
  },
  {
   "cell_type": "code",
   "execution_count": null,
   "metadata": {},
   "outputs": [],
   "source": []
  }
 ],
 "metadata": {
  "kernelspec": {
   "display_name": "Python 3",
   "language": "python",
   "name": "python3"
  },
  "language_info": {
   "codemirror_mode": {
    "name": "ipython",
    "version": 3
   },
   "file_extension": ".py",
   "mimetype": "text/x-python",
   "name": "python",
   "nbconvert_exporter": "python",
   "pygments_lexer": "ipython3",
   "version": "3.8.3"
  }
 },
 "nbformat": 4,
 "nbformat_minor": 2
}
